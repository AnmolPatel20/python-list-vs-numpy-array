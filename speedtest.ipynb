{
 "cells": [
  {
   "cell_type": "code",
   "execution_count": 7,
   "id": "02a8d813-ae0c-4611-be19-41efbffe8742",
   "metadata": {},
   "outputs": [
    {
     "data": {
      "text/plain": [
       "[(1, 6), (2, 7), (4, 8)]"
      ]
     },
     "execution_count": 7,
     "metadata": {},
     "output_type": "execute_result"
    }
   ],
   "source": [
    "#Python Zip Explanation\n",
    "\n",
    "l1=[1,2,4]\n",
    "l2=[6,7,8]\n",
    "list(zip(l1,l2))"
   ]
  },
  {
   "cell_type": "code",
   "execution_count": 5,
   "id": "0a9fd1d8-9289-47ba-93a6-aa634afff816",
   "metadata": {},
   "outputs": [
    {
     "name": "stdout",
     "output_type": "stream",
     "text": [
      "[0, 2, 4, 6, 8, 10, 12, 14, 16, 18]\n",
      "0.25431108474731445\n"
     ]
    }
   ],
   "source": [
    "# Adding Using Python Lists\n",
    "import numpy as np\n",
    "import time\n",
    "\n",
    "size = 1_000_000\n",
    "\n",
    "l1= list(range(size))\n",
    "l2= list(range(size))\n",
    "\n",
    "start = time.time()\n",
    "add= [ x+y for x,y in zip(l1,l2)]\n",
    "end = time.time()\n",
    "print(add[0:10])\n",
    "\n",
    "print( end - start ) "
   ]
  },
  {
   "cell_type": "code",
   "execution_count": 6,
   "id": "c311925f-eee7-41af-b7c6-c91dda987645",
   "metadata": {},
   "outputs": [
    {
     "name": "stdout",
     "output_type": "stream",
     "text": [
      "[ 0  2  4  6  8 10 12 14 16 18]\n",
      "0.04044008255004883\n"
     ]
    }
   ],
   "source": [
    "#Adding Using NumPy Arrays\n",
    "import numpy as np\n",
    "import time\n",
    "\n",
    "size = 1_000_000\n",
    "\n",
    "l1= np.array(list(range(size)))\n",
    "l2= np.array(list(range(size)))\n",
    "\n",
    "start = time.time()\n",
    "add = l1+l2\n",
    "end = time.time()\n",
    "print(add[0:10])\n",
    "\n",
    "print( end - start ) "
   ]
  },
  {
   "cell_type": "code",
   "execution_count": 11,
   "id": "07210473-cd5c-4ea8-9614-7f86cf139f73",
   "metadata": {},
   "outputs": [
    {
     "name": "stdout",
     "output_type": "stream",
     "text": [
      "Python list size: 8056000 bytes\n",
      "NumPy array size: 4000 bytes\n"
     ]
    }
   ],
   "source": [
    "#Checking Memory Consumption\n",
    "import sys\n",
    "list_data = list(range(1000))\n",
    "numpy_data = np.array(list_data)\n",
    "\n",
    "print(\"Python list size:\" , sys.getsizeof(list_data)*len(list_data), \"bytes\")\n",
    "print(\"NumPy array size:\" , numpy_data.nbytes, \"bytes\")"
   ]
  },
  {
   "cell_type": "code",
   "execution_count": 18,
   "id": "f2fd6fc4-b7f9-435f-9377-b359d0f1aa23",
   "metadata": {},
   "outputs": [
    {
     "name": "stdout",
     "output_type": "stream",
     "text": [
      "Time taken to complete Squaring elements in list is  0.16154098510742188\n"
     ]
    }
   ],
   "source": [
    "# Time taken for Squaring elements in list\n",
    "\n",
    "import numpy as np\n",
    "import time\n",
    "\n",
    "\n",
    "size=1_000_000\n",
    "list1= list(range(size))\n",
    "\n",
    "start = time.time()\n",
    "list_squares = [x ** 2 for x in list1]\n",
    "end = time.time()\n",
    "print(\"Time taken to complete Squaring elements in list is \", end - start)"
   ]
  },
  {
   "cell_type": "code",
   "execution_count": 21,
   "id": "5b2204f5-9c54-4087-8dde-6d009e0cd48b",
   "metadata": {},
   "outputs": [
    {
     "name": "stdout",
     "output_type": "stream",
     "text": [
      "Time taken to complete Squaring elements in list is  0.004002094268798828\n"
     ]
    }
   ],
   "source": [
    "# Time taken for Squaring elements in NumPy (vectorized)\n",
    "\n",
    "import numpy as np\n",
    "import time\n",
    "\n",
    "\n",
    "size=1_000_000\n",
    "arr = np.arange(size)\n",
    "\n",
    "start = time.time()\n",
    "numpy_squares = arr ** 2  #Vectorized \n",
    "end = time.time()\n",
    "print(\"Time taken to complete Squaring elements in list is \", end - start)"
   ]
  },
  {
   "cell_type": "code",
   "execution_count": 4,
   "id": "445deffd-6f9a-4b5a-b02f-9c13d03b5caa",
   "metadata": {},
   "outputs": [
    {
     "name": "stdout",
     "output_type": "stream",
     "text": [
      "Python list Multiplication Time: 0.2121903896331787\n"
     ]
    }
   ],
   "source": [
    "#Time taken to Multiply two python lists\n",
    "\n",
    "import numpy as np\n",
    "import time\n",
    "\n",
    "size=1_000_000\n",
    "list1= list(range(size))\n",
    "list2= list(range(size))\n",
    "\n",
    "start=time.time()\n",
    "result= [a*b for a,b in zip(list1,list2)]\n",
    "end=time.time()\n",
    "\n",
    "print(\"Python list Multiplication Time:\", end-start)"
   ]
  },
  {
   "cell_type": "code",
   "execution_count": 5,
   "id": "f0311fe0-334f-48ac-93e8-cefedfdd0cf9",
   "metadata": {},
   "outputs": [
    {
     "name": "stdout",
     "output_type": "stream",
     "text": [
      "NumPy array Multiplication Time: 0.03421282768249512\n"
     ]
    }
   ],
   "source": [
    "#Time taken to Multiply Two Numpy Array\n",
    "\n",
    "import numpy as np\n",
    "import time\n",
    "\n",
    "size=1_000_000\n",
    "list1= list(range(size))\n",
    "list2= list(range(size))\n",
    "arr1=np.array(list1)\n",
    "arr2=np.array(list2)\n",
    "\n",
    "start=time.time()\n",
    "result=arr1*arr2\n",
    "end=time.time()\n",
    "\n",
    "print(\"NumPy array Multiplication Time:\", end- start)"
   ]
  }
 ],
 "metadata": {
  "kernelspec": {
   "display_name": "Python 3 (ipykernel)",
   "language": "python",
   "name": "python3"
  },
  "language_info": {
   "codemirror_mode": {
    "name": "ipython",
    "version": 3
   },
   "file_extension": ".py",
   "mimetype": "text/x-python",
   "name": "python",
   "nbconvert_exporter": "python",
   "pygments_lexer": "ipython3",
   "version": "3.12.7"
  }
 },
 "nbformat": 4,
 "nbformat_minor": 5
}
